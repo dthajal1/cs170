{
 "cells": [
  {
   "cell_type": "markdown",
   "id": "af6215a4",
   "metadata": {},
   "source": [
    "# Ropes Together Strong\n",
    "\n",
    "You have $n$ ropes with lengths $f_1$, $f_2$ ... $f_n$. You need to connect all these ropes into one rope. At each step,\n",
    "you may connect two ropes, at the cost of the sum of their lengths. Your total cost is the sum of the costs of\n",
    "all the steps resulting in a single rope.  \n",
    "\n",
    "Find the minimum total cost to combine all $n$ ropes.\n",
    "\n",
    "An example: if we are given three ropes of lengths 1, 2, 4, then we can connect the three ropes as follows:  \n",
    "- First, connect ropes with length 1 and 2. This costs 3, and leaves you with two ropes of lengths 3, 4.\n",
    "- Then, connect ropes with length 3 and 4. This costs 7, and leaves you with one rope of length 7.\n",
    "- The overall cost of the above solution is 3+7 = 10.\n"
   ]
  },
  {
   "cell_type": "code",
   "execution_count": null,
   "id": "a49ba9dc",
   "metadata": {},
   "outputs": [],
   "source": [
    "test1 = [1, 2, 4]\n",
    "test1ans = 10"
   ]
  },
  {
   "cell_type": "code",
   "execution_count": null,
   "id": "cec3205d",
   "metadata": {},
   "outputs": [],
   "source": [
    "test2 = [5, 4, 3, 2, 1]\n",
    "test2ans = 33"
   ]
  },
  {
   "cell_type": "code",
   "execution_count": null,
   "id": "58822f14",
   "metadata": {},
   "outputs": [],
   "source": [
    "import heapq as hq\n",
    "\n",
    "def combine_ropes(rope_lengths):\n",
    "    cost = 0 \n",
    "        \n",
    "    # YOUR CODE HERE\n",
    "        \n",
    "    return cost"
   ]
  },
  {
   "cell_type": "code",
   "execution_count": null,
   "id": "350d457e",
   "metadata": {},
   "outputs": [],
   "source": [
    "combine_ropes(test1)"
   ]
  },
  {
   "cell_type": "code",
   "execution_count": null,
   "id": "9a789e76",
   "metadata": {},
   "outputs": [],
   "source": [
    "combine_ropes(test2)"
   ]
  },
  {
   "cell_type": "markdown",
   "id": "cfd9d72f",
   "metadata": {},
   "source": [
    "## Proof of Optimality (using Exchange Argument):\n",
    "\n",
    "Feel free to attempt this proof yourself first using the template provided\n",
    "\n",
    "**Offer two solutions: the optimal solution and the alternate solution**  \n",
    "\n",
    "**Explain the order of the current optimal solution**  \n",
    "\n",
    "**Offer the alternate solution (or exchange) at some time step**  \n",
    "\n",
    "**Show and explain the contradiction**  \n",
    "\n",
    "**Reiterate the optimal choice** "
   ]
  }
 ],
 "metadata": {
  "kernelspec": {
   "display_name": "Python 3",
   "language": "python",
   "name": "python3"
  },
  "language_info": {
   "codemirror_mode": {
    "name": "ipython",
    "version": 3
   },
   "file_extension": ".py",
   "mimetype": "text/x-python",
   "name": "python",
   "nbconvert_exporter": "python",
   "pygments_lexer": "ipython3",
   "version": "3.9.5"
  }
 },
 "nbformat": 4,
 "nbformat_minor": 5
}
