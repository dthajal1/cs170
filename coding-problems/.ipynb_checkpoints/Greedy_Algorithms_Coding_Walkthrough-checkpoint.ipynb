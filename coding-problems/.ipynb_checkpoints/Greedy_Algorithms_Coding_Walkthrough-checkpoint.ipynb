{
 "cells": [
  {
   "cell_type": "markdown",
   "id": "af6215a4",
   "metadata": {},
   "source": [
    "# Ropes Together Strong\n",
    "\n",
    "You have $n$ ropes with lengths $f_1$, $f_2$ ... $f_n$. You need to connect all these ropes into one rope. At each step,\n",
    "you may connect two ropes, at the cost of the sum of their lengths. Your total cost is the sum of the costs of\n",
    "all the steps resulting in a single rope.  \n",
    "\n",
    "Find the minimum total cost to combine all $n$ ropes.\n",
    "\n",
    "An example: if we are given three ropes of lengths 1, 2, 4, then we can connect the three ropes as follows:  \n",
    "- First, connect ropes with length 1 and 2. This costs 3, and leaves you with two ropes of lengths 3, 4.\n",
    "- Then, connect ropes with length 3 and 4. This costs 7, and leaves you with one rope of length 7.\n",
    "- The overall cost of the above solution is 3+7 = 10.\n"
   ]
  },
  {
   "cell_type": "markdown",
   "id": "3464cf5e",
   "metadata": {},
   "source": [
    "### Thought Process\n",
    "For the example above, the total cost 1 + 2 + `3` + 4 = 10. `3` comes from the combination of first two ropes. \n",
    "If we instead had paired rope 1 and 4 first the total cost would be 1 + 4 + `5` + 2 = 12 where `5` comes from the combination of first two ropes. This hints to us that if we want to get the minimal total cost it is optimal to combine the ropes with smallest ropes first before moving on to combining ropes with larger lengths."
   ]
  },
  {
   "cell_type": "code",
   "execution_count": 11,
   "id": "a49ba9dc",
   "metadata": {},
   "outputs": [],
   "source": [
    "test1 = [1, 2, 4]\n",
    "test1ans = 10"
   ]
  },
  {
   "cell_type": "code",
   "execution_count": 12,
   "id": "cec3205d",
   "metadata": {},
   "outputs": [],
   "source": [
    "test2 = [5, 4, 3, 2, 1]\n",
    "# 1 + 2 = `3` => [3, 3, 4, 5]\n",
    "# 3 + 3 = `6` => [4, 5, 6]\n",
    "# 4 + 5 = `9` => [6, 9]\n",
    "# 6 + 9 = `15` => [15]\n",
    "# total cost = `3` + `6` + `9` + `15`\n",
    "test2ans = 33"
   ]
  },
  {
   "cell_type": "code",
   "execution_count": 13,
   "id": "58822f14",
   "metadata": {},
   "outputs": [],
   "source": [
    "import heapq as hq\n",
    "\n",
    "def combine_ropes(rope_lengths):\n",
    "    cost = 0 \n",
    "        \n",
    "    # at every step we want to get the two shortest length, combine them and add it back to the rope_lengths\n",
    "    hq.heapify(rope_lengths) # heapifies in place\n",
    "    \n",
    "    while (len(rope_lengths) > 1): # combine as long as there are two or more ropes\n",
    "        short1 = hq.heappop(rope_lengths)\n",
    "        short2 = hq.heappop(rope_lengths)\n",
    "        curr_cost = short1 + short2\n",
    "        cost += curr_cost\n",
    "        hq.heappush(rope_lengths, curr_cost)\n",
    "        \n",
    "    return cost"
   ]
  },
  {
   "cell_type": "code",
   "execution_count": 14,
   "id": "350d457e",
   "metadata": {},
   "outputs": [
    {
     "data": {
      "text/plain": [
       "10"
      ]
     },
     "execution_count": 14,
     "metadata": {},
     "output_type": "execute_result"
    }
   ],
   "source": [
    "combine_ropes(test1)"
   ]
  },
  {
   "cell_type": "code",
   "execution_count": 15,
   "id": "9a789e76",
   "metadata": {},
   "outputs": [
    {
     "data": {
      "text/plain": [
       "33"
      ]
     },
     "execution_count": 15,
     "metadata": {},
     "output_type": "execute_result"
    }
   ],
   "source": [
    "combine_ropes(test2)"
   ]
  },
  {
   "cell_type": "markdown",
   "id": "925b06a1",
   "metadata": {},
   "source": [
    "### Why is this problem considered greedy?\n",
    "Because this problem doesn't precompute/predetermine the entire problem. We instead break it down into smaller local choices and pick the best ones from there. In our case we chose ropes with shortest lengths."
   ]
  },
  {
   "cell_type": "markdown",
   "id": "cfd9d72f",
   "metadata": {},
   "source": [
    "## Proof of Optimality (using Exchange Argument):\n",
    "\n",
    "Feel free to attempt this proof yourself first using the template provided\n",
    "\n",
    "**Offer two solutions: the optimal solution and the alternate solution**  \n",
    "Let us say we have an optimal solution $S1$ and another solution $S2$ which differ in which ropes to combine at timestep i.\n",
    "With out loss of generality (WLOG) let us say that two solutions differ in the way they combine ropes $x1, x2, x3$ and that $x1, x2 < x3$\n",
    "\n",
    "**Explain the order of the current optimal solution**  \n",
    "Let us say that our optimal solution at timestep i, chooses to combine ropes that are not the two shortest ropes at that particular time so it combines $x2 and x3$ first to get $x23$ incurring the cost $(x2 + x3)$ and then combines rope $x1$ incurring cost $((x2 + x3) + x1)$ so the $total cost = ((x2 + x3) + ((x2 + x3)+ x1)) = 2x3 + 2x2 + x1$\n",
    "\n",
    "**Offer the alternate solution (or exchange) at some time step**  \n",
    "The alternate solution at timestep i instead combines ropes that are shortest at that particular time combining $(x1 + x2)$ and then $x3$ with $total cost = 2x1 + 2x2 + x3$\n",
    "\n",
    "**Show and explain the contradiction**  \n",
    "Now we know $(2x1 + 2x2 + x3) < (2x3 + 2x2 + x1)$ since $x1 < x3$. Further since now both ropes contain the length $x1$ and $x3$ anytime the rope is combined in the future, the cost incurred by both algorithms for particular peice of rope will be the same.\n",
    "\n",
    "**Reiterate the optimal choice** \n",
    "Therefore the first method of combining the rope is suboptimal and proves that the smallest two ropes must always be combined first at every stage of algorithm\n"
   ]
  },
  {
   "cell_type": "code",
   "execution_count": null,
   "id": "08110e28",
   "metadata": {},
   "outputs": [],
   "source": []
  }
 ],
 "metadata": {
  "kernelspec": {
   "display_name": "Python 3 (ipykernel)",
   "language": "python",
   "name": "python3"
  },
  "language_info": {
   "codemirror_mode": {
    "name": "ipython",
    "version": 3
   },
   "file_extension": ".py",
   "mimetype": "text/x-python",
   "name": "python",
   "nbconvert_exporter": "python",
   "pygments_lexer": "ipython3",
   "version": "3.9.7"
  }
 },
 "nbformat": 4,
 "nbformat_minor": 5
}
