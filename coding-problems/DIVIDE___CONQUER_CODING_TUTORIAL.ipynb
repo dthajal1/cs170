{
 "cells": [
  {
   "cell_type": "markdown",
   "metadata": {},
   "source": [
    "# DIVIDE & CONQUER CODING TUTORIAL"
   ]
  },
  {
   "cell_type": "markdown",
   "metadata": {},
   "source": [
    "### PROBLEM: MONOTONE MATRICES (CS 170 Fall 2020 HW 1)\n",
    "\n",
    "A $m$-by-$n$ matrix is _monotone_ if $n \\geq m$, each row of A has no duplicate entries, and it has the following property: if the minimum of row $i$ is located at column $j_i$, then $j_1 < j_2 < j_3... j_m$. For example, the following matrix is\n",
    "monotone (the minimum of each row is bolded):\n",
    "\n",
    "$$\\begin{bmatrix}\n",
    "\\textbf1 & 3 & 4 & 6 & 5 & 2\\\\\n",
    "7 & 3 & \\textbf2 & 5 & 6 & 4\\\\\n",
    "7 & 9 & 6 & 3 & 10 & \\textbf0\n",
    "\\end{bmatrix}$$\n",
    "\n",
    "Give an efficient (i.e. better than $O(mn)$-time algorithm) that finds the minimum in each row of an $m$-by-$n$ monotone matrix A."
   ]
  },
  {
   "cell_type": "code",
   "execution_count": 1,
   "metadata": {},
   "outputs": [],
   "source": [
    "import numpy as np"
   ]
  },
  {
   "cell_type": "code",
   "execution_count": null,
   "metadata": {},
   "outputs": [],
   "source": [
    "test_matrix_small_1 = np.array([[1, 3, 4, 6, 5, 2],\n",
    "                                [7, 3, 2, 5, 6, 4],\n",
    "                                [7, 9, 6, 3, 10, 0]])\n",
    "\n",
    "# expected output: [1, 2, 0]\n",
    "\n",
    "test_matrix_small_1"
   ]
  },
  {
   "cell_type": "code",
   "execution_count": null,
   "metadata": {},
   "outputs": [],
   "source": [
    "test_matrix_small_2 = np.array([[1, 2, 3, 4],\n",
    "                                [6, 5, 4, 3]])\n",
    "\n",
    "# expected output: [1, 3]\n",
    "\n",
    "test_matrix_small_2"
   ]
  },
  {
   "cell_type": "code",
   "execution_count": null,
   "metadata": {},
   "outputs": [],
   "source": [
    "test_matrix_small_3 = np.array([[1, 2, 3],\n",
    "                                [3, 1, 2],\n",
    "                                [2, 3, 1]])\n",
    "\n",
    "# expected output: [1, 1, 1]\n",
    "\n",
    "test_matrix_small_3"
   ]
  },
  {
   "cell_type": "code",
   "execution_count": null,
   "metadata": {},
   "outputs": [],
   "source": [
    "test_matrix_large = np.full((10000, 10000), 1)\n",
    "for i in range(len(test_matrix_large)):\n",
    "    test_matrix_large[i][i] = 0\n",
    "    \n",
    "# expected output: [0, 0 ... 0, 0] (A list of 10000 '0's)\n",
    "    \n",
    "test_matrix_large"
   ]
  },
  {
   "cell_type": "code",
   "execution_count": null,
   "metadata": {},
   "outputs": [],
   "source": [
    "def naive_monotone(A):\n",
    "    m = A.shape[0] # m = no. of rows\n",
    "    n = A.shape[1] # n = no. of cols\n",
    "    # Your code here\n",
    "    \n",
    "    "
   ]
  },
  {
   "cell_type": "code",
   "execution_count": null,
   "metadata": {},
   "outputs": [],
   "source": [
    "%%time\n",
    "\n",
    "naive_monotone(test_matrix_small_1)"
   ]
  },
  {
   "cell_type": "code",
   "execution_count": null,
   "metadata": {},
   "outputs": [],
   "source": [
    "%%time\n",
    "\n",
    "naive_monotone(test_matrix_small_2)"
   ]
  },
  {
   "cell_type": "code",
   "execution_count": null,
   "metadata": {},
   "outputs": [],
   "source": [
    "%%time\n",
    "\n",
    "naive_monotone(test_matrix_small_3)"
   ]
  },
  {
   "cell_type": "code",
   "execution_count": null,
   "metadata": {},
   "outputs": [],
   "source": [
    "%%time\n",
    "\n",
    "naive_monotone(test_matrix_large)"
   ]
  },
  {
   "cell_type": "code",
   "execution_count": null,
   "metadata": {},
   "outputs": [],
   "source": [
    "def efficient_monotone(A, startrow, endrow, startcol, endcol):\n",
    "    m = endrow - startrow # m = no. of rows\n",
    "    n = endcol - startcol # n = no. of cols\n",
    "    # Your code here\n",
    "      \n"
   ]
  },
  {
   "cell_type": "code",
   "execution_count": null,
   "metadata": {},
   "outputs": [],
   "source": [
    "%%time\n",
    "\n",
    "efficient_monotone(test_matrix_small_1, 0, test_matrix_small_1.shape[0], 0, test_matrix_small_1.shape[1])"
   ]
  },
  {
   "cell_type": "code",
   "execution_count": null,
   "metadata": {},
   "outputs": [],
   "source": [
    "%%time\n",
    "\n",
    "efficient_monotone(test_matrix_small_2, 0, test_matrix_small_2.shape[0], 0, test_matrix_small_2.shape[1])"
   ]
  },
  {
   "cell_type": "code",
   "execution_count": null,
   "metadata": {},
   "outputs": [],
   "source": [
    "%%time\n",
    "\n",
    "efficient_monotone(test_matrix_small_3, 0, test_matrix_small_3.shape[0], 0, test_matrix_small_3.shape[1])"
   ]
  },
  {
   "cell_type": "code",
   "execution_count": null,
   "metadata": {},
   "outputs": [],
   "source": [
    "%%time\n",
    "\n",
    "efficient_monotone(test_matrix_large, 0, test_matrix_large.shape[0], 0, test_matrix_large.shape[1])"
   ]
  },
  {
   "cell_type": "code",
   "execution_count": null,
   "metadata": {},
   "outputs": [],
   "source": [
    "%%time\n",
    "def efficient_monotone_2(A):\n",
    "    m = A.shape[0] # m = no. of rows\n",
    "    n = A.shape[1] # n = no. of cols\n",
    "    # Your code here\n",
    "    \n",
    "    "
   ]
  },
  {
   "cell_type": "code",
   "execution_count": null,
   "metadata": {},
   "outputs": [],
   "source": []
  }
 ],
 "metadata": {
  "kernelspec": {
   "display_name": "Python 3",
   "language": "python",
   "name": "python3"
  },
  "language_info": {
   "codemirror_mode": {
    "name": "ipython",
    "version": 3
   },
   "file_extension": ".py",
   "mimetype": "text/x-python",
   "name": "python",
   "nbconvert_exporter": "python",
   "pygments_lexer": "ipython3",
   "version": "3.8.3"
  }
 },
 "nbformat": 4,
 "nbformat_minor": 4
}
